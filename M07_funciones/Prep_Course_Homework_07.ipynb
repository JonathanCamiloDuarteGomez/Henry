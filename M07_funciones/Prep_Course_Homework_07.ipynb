{
 "cells": [
  {
   "attachments": {},
   "cell_type": "markdown",
   "metadata": {},
   "source": [
    "## Funciones"
   ]
  },
  {
   "attachments": {},
   "cell_type": "markdown",
   "metadata": {},
   "source": [
    "1) Crear una función que reciba un número como parámetro y devuelva True si es primo y False si no lo es"
   ]
  },
  {
   "cell_type": "code",
   "execution_count": 57,
   "metadata": {},
   "outputs": [
    {
     "name": "stdout",
     "output_type": "stream",
     "text": [
      "True\n"
     ]
    }
   ],
   "source": [
    "def primo(n):\n",
    "    aux=0\n",
    "    for i in range(n+1):\n",
    "        if(i!=0 ):\n",
    "            if n%i==0:\n",
    "                if(i!=1):\n",
    "                    aux +=1\n",
    "    if aux!=1: return False\n",
    "    else: return True\n",
    "print(primo(2))"
   ]
  },
  {
   "attachments": {},
   "cell_type": "markdown",
   "metadata": {},
   "source": [
    "2) Utilizando la función del punto 1, realizar otra función que reciba de parámetro una lista de números y devuelva sólo aquellos que son primos en otra lista"
   ]
  },
  {
   "cell_type": "code",
   "execution_count": 58,
   "metadata": {},
   "outputs": [
    {
     "name": "stdout",
     "output_type": "stream",
     "text": [
      "[2, 3, 5, 7, 11, 13, 17, 19, 23, 29, 31, 37, 41, 43, 47, 53, 59, 61, 67, 71, 73, 79, 83, 89, 97, 101, 103, 107, 109, 113, 127, 131, 137, 139, 149, 151, 157, 163, 167, 173, 179, 181, 191, 193, 197, 199, 211, 223, 227, 229, 233, 239, 241, 251, 257, 263, 269, 271, 277, 281, 283, 293, 307, 311, 313, 317, 331, 337, 347, 349, 353, 359, 367, 373, 379, 383, 389, 397, 401, 409, 419, 421, 431, 433, 439, 443, 449, 457, 461, 463, 467, 479, 487, 491, 499, 503, 509, 521, 523, 541, 547, 557, 563, 569, 571, 577, 587, 593, 599, 601, 607, 613, 617, 619, 631, 641, 643, 647, 653, 659, 661, 673, 677, 683, 691, 701, 709, 719, 727, 733, 739, 743, 751, 757, 761, 769, 773, 787, 797, 809, 811, 821, 823, 827, 829, 839, 853, 857, 859, 863, 877, 881, 883, 887, 907, 911, 919, 929, 937, 941, 947, 953, 967, 971, 977, 983, 991, 997]\n"
     ]
    }
   ],
   "source": [
    "def seleccionPrimos(nLista):\n",
    "    listaPrimos = []\n",
    "    for i in range(len(nLista)):\n",
    "        regreso = False\n",
    "        regreso = primo(nLista[i])\n",
    "        if regreso == True:\n",
    "            listaPrimos.append(i+1)\n",
    "    return listaPrimos\n",
    "\n",
    "nP = list(range(1, 1001))\n",
    "print(seleccionPrimos(nP))\n",
    "\n"
   ]
  },
  {
   "attachments": {},
   "cell_type": "markdown",
   "metadata": {},
   "source": [
    "3) Crear una función que al recibir una lista de números, devuelva el que más se repite y cuántas veces lo hace. Si hay más de un \"más repetido\", que devuelva cualquiera"
   ]
  },
  {
   "cell_type": "code",
   "execution_count": 2,
   "metadata": {},
   "outputs": [
    {
     "name": "stdout",
     "output_type": "stream",
     "text": [
      "(5, 12)\n"
     ]
    }
   ],
   "source": [
    "\n",
    "def moda(np):\n",
    "    numero = 0\n",
    "    cantidadDeVecesQueSeRepite = 0\n",
    "    repetidos =  map ( lambda x: (x, nP.count(x)), nP)\n",
    "    for i in repetidos:\n",
    "        if i[1] > cantidadDeVecesQueSeRepite:\n",
    "            cantidadDeVecesQueSeRepite = i[1]\n",
    "            numero = i[0]\n",
    "    return numero, cantidadDeVecesQueSeRepite\n",
    "            \n",
    "nP= [1,1,1,2,3,4,5,5,5,5,5,5,5,5,5,5,5,5]\n",
    "print(moda(nP))\n",
    "\n"
   ]
  },
  {
   "attachments": {},
   "cell_type": "markdown",
   "metadata": {},
   "source": [
    "4) Crear una función que convierta entre grados Celsius, Farenheit y Kelvin<br>\n",
    "Fórmula 1\t: (°C × 9/5) + 32 = °F<br>\n",
    "Fórmula 2\t: °C + 273.15 = °K<br>\n",
    "Debe recibir 3 parámetros: el valor, la medida de orígen y la medida de destino\n"
   ]
  },
  {
   "cell_type": "code",
   "execution_count": 7,
   "metadata": {},
   "outputs": [
    {
     "name": "stdout",
     "output_type": "stream",
     "text": [
      "Resultado de la conversión: 338.7055555555555\n"
     ]
    }
   ],
   "source": [
    "# Solicitar al usuario que ingrese el valor a convertir\n",
    "# print(\"Ingrese el valor a Convertir: \")\n",
    "# valor = float(input())  # Convertir la entrada a tipo float para permitir decimales\n",
    "\n",
    "# Solicitar la medida de origen\n",
    "# print(\"Seleccione la medida de origen:\\n 1) Celsius\\n 2) Farenheit\\n 3) Kelvin\")\n",
    "# medidaOrigen = int(input())  # Convertir la entrada a tipo int para facilitar la comparación\n",
    "\n",
    "# Solicitar la medida de destino\n",
    "# print(\"Seleccione la medida de destino:\\n 1) Celsius\\n 2) Farenheit\\n 3) Kelvin\")\n",
    "# medidaDestino = int(input())  # Convertir la entrada a tipo int para facilitar la comparación\n",
    "\n",
    "# Definir la función para realizar la conversión\n",
    "def convertir(valor, medidaOrigen, medidaDestino):\n",
    "    if medidaOrigen == 1:\n",
    "        if medidaDestino == 1:\n",
    "            return valor\n",
    "        elif medidaDestino == 2:\n",
    "            return (valor * 9/5) + 32\n",
    "        else:\n",
    "            return valor + 273.15\n",
    "    elif medidaOrigen == 2:\n",
    "        if medidaDestino == 1:\n",
    "            return (valor - 32) * 5/9\n",
    "        elif medidaDestino == 2:\n",
    "            return valor\n",
    "        else:\n",
    "            return (valor - 32) * 5/9 + 273.15\n",
    "    else:\n",
    "        if medidaDestino == 1:\n",
    "            return valor - 273.15\n",
    "        elif medidaDestino == 2:\n",
    "            return (valor - 273.15) * 9/5 + 32\n",
    "        else:\n",
    "            return valor\n",
    "\n",
    "# Imprimir el resultado de la conversión\n",
    "print(\"Resultado de la conversión:\", convertir(150, 2, 3))\n"
   ]
  },
  {
   "attachments": {},
   "cell_type": "markdown",
   "metadata": {},
   "source": [
    "5) Iterando una lista con los tres valores posibles de temperatura que recibe la función del punto 5, hacer un print para cada combinación de los mismos:"
   ]
  },
  {
   "cell_type": "code",
   "execution_count": null,
   "metadata": {},
   "outputs": [],
   "source": [
    "metricas = {\"celsius\": 1, \"kelvin\": 2, \"farenheit\": 3}\n",
    "\n",
    "for i in range(0, 3):\n",
    "    for j in range(0, 3):\n",
    "        print('1 grado', list(metricas.keys())[i], 'a', list(metricas.keys())[j], ':', convertir(1, metricas[list(metricas.keys())[i]], metricas[list(metricas.keys())[j]]))\n"
   ]
  },
  {
   "attachments": {},
   "cell_type": "markdown",
   "metadata": {},
   "source": [
    "6) Armar una función que devuelva el factorial de un número. Tener en cuenta que el usuario puede equivocarse y enviar de parámetro un número no entero o negativo"
   ]
  },
  {
   "cell_type": "code",
   "execution_count": 8,
   "metadata": {},
   "outputs": [
    {
     "name": "stdout",
     "output_type": "stream",
     "text": [
      "120\n"
     ]
    }
   ],
   "source": [
    "def factorial(numero):\n",
    "    # Verifica si el número no es entero y devuelve un mensaje de error\n",
    "    if type(numero) != int:\n",
    "        return 'El número debe ser un entero'\n",
    "    \n",
    "    # Verifica si el número es negativo y devuelve un mensaje de error\n",
    "    if numero < 0:\n",
    "        return 'El número debe ser positivo'\n",
    "    \n",
    "    # Caso base: si el número es 0 o 1, el factorial es 1\n",
    "    if numero <= 1:\n",
    "        return 1\n",
    "    \n",
    "    # Recursión: calcula el factorial del número multiplicándolo por el factorial del número anterior\n",
    "    numero = numero * factorial(numero - 1)\n",
    "    \n",
    "    return numero\n",
    "\n",
    "print(factorial(5))"
   ]
  }
 ],
 "metadata": {
  "interpreter": {
   "hash": "c85384e4cb51c8b72350f3a8712cc8351fdc3955e32a27f9b60c6242ab125f01"
  },
  "kernelspec": {
   "display_name": "Python 3 (ipykernel)",
   "language": "python",
   "name": "python3"
  },
  "language_info": {
   "codemirror_mode": {
    "name": "ipython",
    "version": 3
   },
   "file_extension": ".py",
   "mimetype": "text/x-python",
   "name": "python",
   "nbconvert_exporter": "python",
   "pygments_lexer": "ipython3",
   "version": "3.12.0"
  }
 },
 "nbformat": 4,
 "nbformat_minor": 4
}
